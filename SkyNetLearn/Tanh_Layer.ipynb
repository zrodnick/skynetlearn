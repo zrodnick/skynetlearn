{
 "cells": [
  {
   "cell_type": "code",
   "execution_count": null,
   "metadata": {},
   "outputs": [],
   "source": [
    "import numpy as np"
   ]
  },
  {
   "cell_type": "code",
   "execution_count": 1,
   "metadata": {},
   "outputs": [],
   "source": [
    "class tanh:\n",
    "    \n",
    "    def __init__(self, indims, outdims=6):\n",
    "    #outdims is equal to the number of nodes in current layer, indims is dependent on previous layer.\n",
    "        #weights    \n",
    "        self.W = np.random.randn(indims, outdims)\n",
    "        self.Mw = np.zeros_like(self.W)\n",
    "        self.Gw = np.ones_like(self.W)\n",
    "        #biases\n",
    "        self.B = np.random.randn(1, outdims)\n",
    "        self.Mb = np.zeros_like(self.B)\n",
    "        self.Gb = np.ones_like(self.B)\n",
    "        \n",
    "    def forward(self, X):\n",
    "        self.A = X\n",
    "        self.H = self.A@self.W+self.B\n",
    "        self.Z = np.tanh(self.H)\n",
    "        return self.Z\n",
    "        #store As, Hs, and Zs\n",
    "        \n",
    "    def backward(self, Dn):\n",
    "        #set derivative\n",
    "        deriv = Dn*(1-self.H**2)\n",
    "        self.D = deriv*self.W.T\n",
    "        self.W -= LR*self.A.T@self.deriv\n",
    "        self.B -= LR*np.sum(self.deriv, axis=0)\n",
    "        return self.D\n",
    "        #weight update\n"
   ]
  },
  {
   "cell_type": "code",
   "execution_count": null,
   "metadata": {},
   "outputs": [],
   "source": []
  }
 ],
 "metadata": {
  "kernelspec": {
   "display_name": "Python 3",
   "language": "python",
   "name": "python3"
  },
  "language_info": {
   "codemirror_mode": {
    "name": "ipython",
    "version": 3
   },
   "file_extension": ".py",
   "mimetype": "text/x-python",
   "name": "python",
   "nbconvert_exporter": "python",
   "pygments_lexer": "ipython3",
   "version": "3.7.1"
  }
 },
 "nbformat": 4,
 "nbformat_minor": 2
}
